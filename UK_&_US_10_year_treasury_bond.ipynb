{
  "nbformat": 4,
  "nbformat_minor": 0,
  "metadata": {
    "colab": {
      "private_outputs": true,
      "provenance": [],
      "authorship_tag": "ABX9TyMCugrK7eq/5gBEA2yVIMBL",
      "include_colab_link": true
    },
    "kernelspec": {
      "name": "python3",
      "display_name": "Python 3"
    },
    "language_info": {
      "name": "python"
    }
  },
  "cells": [
    {
      "cell_type": "markdown",
      "metadata": {
        "id": "view-in-github",
        "colab_type": "text"
      },
      "source": [
        "<a href=\"https://colab.research.google.com/github/AnalyticalHarry/Econometrics/blob/main/UK_%26_US_10_year_treasury_bond.ipynb\" target=\"_parent\"><img src=\"https://colab.research.google.com/assets/colab-badge.svg\" alt=\"Open In Colab\"/></a>"
      ]
    },
    {
      "cell_type": "markdown",
      "source": [
        "# UK & US 10 year treasury bond"
      ],
      "metadata": {
        "id": "2bkYBga7q9Rs"
      }
    },
    {
      "cell_type": "markdown",
      "source": [
        "### Hemant Thapa"
      ],
      "metadata": {
        "id": "e2GtfCW0q_7e"
      }
    },
    {
      "cell_type": "code",
      "execution_count": null,
      "metadata": {
        "id": "oHmQl5n8cVPX"
      },
      "outputs": [],
      "source": [
        "import numpy as np\n",
        "import pandas as pd\n",
        "import seaborn as sns\n",
        "import yfinance as yf\n",
        "import pandas_datareader as pdr\n",
        "import matplotlib.pyplot as plt"
      ]
    },
    {
      "cell_type": "code",
      "source": [
        "# fetch US 10-year Treasury yield data\n",
        "us10_yield = yf.download(\"^TNX\", start=\"2014-01-01\", end=\"2024-05-01\")['Adj Close']\n",
        "\n",
        "# fetch UK 10-year Gilt yield data from FRED\n",
        "uk_yield = yf.download(\"^TYX\", start=\"2014-01-01\", end=\"2024-05-01\")['Adj Close']"
      ],
      "metadata": {
        "id": "baHbpMT5ejZe"
      },
      "execution_count": null,
      "outputs": []
    },
    {
      "cell_type": "code",
      "source": [
        "plt.figure(figsize=(30, 6))\n",
        "plt.plot(us10_yield, label='US 10-Year Treasury Yield', lw=0.8, color='black')\n",
        "plt.plot(uk_yield, label='UK 10-Year Gilt Yield', lw=1.5, color='red')\n",
        "plt.title(\"US 10-Year Treasury Yield vs UK 10-Year Gilt Yield\")\n",
        "plt.xlabel(\"Date\")\n",
        "plt.ylabel(\"Yield (%)\")\n",
        "plt.legend()\n",
        "plt.grid(True)\n",
        "plt.show()"
      ],
      "metadata": {
        "id": "9hvlhMohcbA-"
      },
      "execution_count": null,
      "outputs": []
    },
    {
      "cell_type": "code",
      "source": [
        "# yield spread\n",
        "yield_spread = us10_yield - uk_yield\n",
        "\n",
        "\n",
        "plt.figure(figsize=(12, 6))\n",
        "plt.plot(yield_spread, label='US-UK 10-Year Yield Spread', lw=1.5, color='blue')\n",
        "max_pos = yield_spread.max() * 0.9\n",
        "min_pos = yield_spread.min() * 1\n",
        "plt.text(yield_spread.index[0], max_pos, f'Max Spread: {yield_spread.max():.2f}%', verticalalignment='bottom', fontsize=10, color='green', fontweight='bold')\n",
        "plt.text(yield_spread.index[0], min_pos, f'Min Spread: {yield_spread.min():.2f}%', verticalalignment='bottom', fontsize=10, color='red', fontweight='bold')\n",
        "plt.text(yield_spread.idxmax(), max_pos, f'Highest Spread on {yield_spread.idxmax().strftime(\"%b %d, %Y\")}', verticalalignment='bottom', fontsize=10, color='green')\n",
        "plt.text(yield_spread.idxmin(), min_pos + 0.05, f'Lowest Spread on {yield_spread.idxmin().strftime(\"%b %d, %Y\")}', verticalalignment='bottom', fontsize=10, color='red')\n",
        "plt.title(\"US-UK 10-Year Yield Spread\")\n",
        "plt.xlabel(\"Date\")\n",
        "plt.ylabel(\"Yield Spread (%)\")\n",
        "plt.axhline(0, color='black', linestyle='--', lw=0.5)\n",
        "plt.legend()\n",
        "plt.grid(True)\n",
        "plt.show()"
      ],
      "metadata": {
        "id": "FF0Ncf6qh59E"
      },
      "execution_count": null,
      "outputs": []
    },
    {
      "cell_type": "code",
      "source": [
        "us10_yield.shape, uk_yield.shape"
      ],
      "metadata": {
        "id": "mxlrHiOBgS_8"
      },
      "execution_count": null,
      "outputs": []
    },
    {
      "cell_type": "code",
      "source": [
        "from sklearn.model_selection import train_test_split\n",
        "from sklearn.linear_model import LinearRegression\n",
        "from sklearn.metrics import r2_score, mean_squared_error, mean_absolute_error"
      ],
      "metadata": {
        "id": "6uEiJ5Xymfjb"
      },
      "execution_count": null,
      "outputs": []
    },
    {
      "cell_type": "code",
      "source": [
        "X = np.array(uk_yield).reshape(-1, 1)\n",
        "y = np.array(us10_yield)"
      ],
      "metadata": {
        "id": "6lwuT41smguD"
      },
      "execution_count": null,
      "outputs": []
    },
    {
      "cell_type": "code",
      "source": [
        "X_train, X_test, y_train, y_test = train_test_split(X, y, test_size=0.3, random_state=0)"
      ],
      "metadata": {
        "id": "ZaD7Btw2mje7"
      },
      "execution_count": null,
      "outputs": []
    },
    {
      "cell_type": "code",
      "source": [
        "model = LinearRegression()\n",
        "model.fit(X_train, y_train)"
      ],
      "metadata": {
        "id": "uhZsW31VmkIT"
      },
      "execution_count": null,
      "outputs": []
    },
    {
      "cell_type": "code",
      "source": [
        "y_pred = model.predict(X_test)\n",
        "\n",
        "r_squared = r2_score(y_test, y_pred)\n",
        "mse = mean_squared_error(y_test, y_pred)\n",
        "rmse = np.sqrt(mse)\n",
        "mae = mean_absolute_error(y_test, y_pred)\n",
        "\n",
        "print(\"Evaluation Metrics:\")\n",
        "print(f\"R-squared: {r_squared:.4f}\")\n",
        "print(f\"Mean Squared Error (MSE): {mse:.4f}\")\n",
        "print(f\"Root Mean Squared Error (RMSE): {rmse:.4f}\")\n",
        "print(f\"Mean Absolute Error (MAE): {mae:.4f}\")"
      ],
      "metadata": {
        "id": "KoR4K0YLmnsD"
      },
      "execution_count": null,
      "outputs": []
    },
    {
      "cell_type": "code",
      "source": [
        "plt.figure(figsize=(10, 6))\n",
        "plt.scatter(uk_yield, us10_yield, color='blue', alpha=0.5, label='Data')\n",
        "plt.plot(X_test, y_pred, color='red', label='Best Fit Line')\n",
        "plt.title(\"US 10-Year Treasury Yield vs UK 10-Year Gilt Yield\")\n",
        "plt.xlabel(\"US 10-Year Treasury Yield (%)\")\n",
        "plt.ylabel(\"UK 10-Year Gilt Yield (%)\")\n",
        "plt.grid(True)\n",
        "plt.legend()\n",
        "plt.show()"
      ],
      "metadata": {
        "id": "lSGKX9ndmuMb"
      },
      "execution_count": null,
      "outputs": []
    },
    {
      "cell_type": "code",
      "source": [
        "residuals = y_test - y_pred\n",
        "\n",
        "# distribution of residuals with KDE using Matplotlib\n",
        "plt.figure(figsize=(10, 6))\n",
        "plt.hist(residuals, bins=50, color='black', alpha=0.5, density=True)\n",
        "sns.kdeplot(residuals, color='blue', linestyle='-', linewidth=2)\n",
        "plt.title(\"Distribution of Residuals\")\n",
        "plt.xlabel(\"Residuals\")\n",
        "plt.ylabel(\"Density\")\n",
        "plt.axvline(x=0, color='red', linestyle='--')\n",
        "plt.grid(True)\n",
        "plt.show()"
      ],
      "metadata": {
        "id": "kb3nTWHDmyoD"
      },
      "execution_count": null,
      "outputs": []
    },
    {
      "cell_type": "markdown",
      "source": [],
      "metadata": {
        "id": "_6IsEcC5q7CN"
      }
    },
    {
      "cell_type": "code",
      "source": [
        "# rolling standard deviation (volatility) of yield changes\n",
        "# 30-day window for annualised volatility\n",
        "us10_volatility = us10_yield.pct_change().rolling(window=30).std() * np.sqrt(252)\n",
        "uk_volatility = uk_yield.pct_change().rolling(window=30).std() * np.sqrt(252)\n",
        "\n",
        "plt.figure(figsize=(12, 6))\n",
        "plt.plot(us10_volatility, label='US 10-Year Treasury Volatility', lw=1.5, color='blue')\n",
        "plt.plot(uk_volatility, label='UK 10-Year Gilt Volatility', lw=1.5, color='green')\n",
        "plt.title(\"Volatility of US and UK 10-Year Yields\")\n",
        "plt.xlabel(\"Date\")\n",
        "plt.ylabel(\"Volatility\")\n",
        "plt.legend()\n",
        "plt.grid(True)\n",
        "plt.show()"
      ],
      "metadata": {
        "id": "euoYvHWahfos"
      },
      "execution_count": null,
      "outputs": []
    },
    {
      "cell_type": "code",
      "source": [
        "dates = us10_volatility.index\n",
        "us10_volatility_values = us10_volatility.values\n",
        "uk_volatility_values = uk_volatility.values\n",
        "\n",
        "plt.figure(figsize=(12, 6))\n",
        "plt.stackplot(dates, us10_volatility_values, uk_volatility_values, labels=['US 10-Year Treasury', 'UK 10-Year Gilt'], colors=['blue', 'green'])\n",
        "plt.title(\"Volatility of US and UK 10-Year Yields\")\n",
        "plt.xlabel(\"Date\")\n",
        "plt.ylabel(\"Volatility\")\n",
        "plt.legend(loc='upper left')\n",
        "plt.grid(True)\n",
        "plt.show()"
      ],
      "metadata": {
        "id": "9hLiTOEhl3yD"
      },
      "execution_count": null,
      "outputs": []
    }
  ]
}