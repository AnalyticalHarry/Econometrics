{
 "cells": [
  {
   "cell_type": "markdown",
   "id": "3fc93272-d952-4615-9a1f-640dedba1da5",
   "metadata": {},
   "source": [
    "## Nature of business (SIC)"
   ]
  },
  {
   "cell_type": "markdown",
   "id": "22a23352-08b0-433b-9450-0a99bd137a86",
   "metadata": {},
   "source": [
    "#### Standard industrial classification of economic activities"
   ]
  },
  {
   "cell_type": "markdown",
   "id": "9aae8342-0503-4261-bf8d-d70682e22b8d",
   "metadata": {},
   "source": [
    "#### Hemant Thapa"
   ]
  },
  {
   "cell_type": "code",
   "execution_count": 4,
   "id": "2265718e-0503-441b-86d2-a6806e5f5966",
   "metadata": {},
   "outputs": [],
   "source": [
    "import pandas as pd"
   ]
  },
  {
   "cell_type": "code",
   "execution_count": 5,
   "id": "63045730-26b3-48e1-9a82-681416ff1778",
   "metadata": {},
   "outputs": [],
   "source": [
    "pd.set_option('display.max_rows', None)\n",
    "pd.set_option('display.max_columns', None)\n",
    "pd.set_option('display.max_colwidth', None)"
   ]
  },
  {
   "cell_type": "code",
   "execution_count": 6,
   "id": "917f7e04-601a-430b-9e72-03f759896441",
   "metadata": {},
   "outputs": [],
   "source": [
    "df = pd.read_csv('sic.csv')"
   ]
  },
  {
   "cell_type": "code",
   "execution_count": 7,
   "id": "db8fdaf1-e346-42e5-b267-af83d49266d7",
   "metadata": {},
   "outputs": [
    {
     "data": {
      "text/plain": [
       "(731, 2)"
      ]
     },
     "execution_count": 7,
     "metadata": {},
     "output_type": "execute_result"
    }
   ],
   "source": [
    "df.shape"
   ]
  },
  {
   "cell_type": "code",
   "execution_count": 8,
   "id": "19ba4acc-fa81-4516-8ec3-0145c6bbb14d",
   "metadata": {},
   "outputs": [
    {
     "data": {
      "text/plain": [
       "1462"
      ]
     },
     "execution_count": 8,
     "metadata": {},
     "output_type": "execute_result"
    }
   ],
   "source": [
    "df.size"
   ]
  },
  {
   "cell_type": "code",
   "execution_count": 9,
   "id": "90165103-fd77-4f22-90bd-185609d746c2",
   "metadata": {},
   "outputs": [
    {
     "data": {
      "text/plain": [
       "SIC Code       0\n",
       "Description    0\n",
       "dtype: int64"
      ]
     },
     "execution_count": 9,
     "metadata": {},
     "output_type": "execute_result"
    }
   ],
   "source": [
    "df.isnull().sum()"
   ]
  },
  {
   "cell_type": "code",
   "execution_count": 10,
   "id": "8f83e7b4-4f29-4138-b293-fc803b0c4541",
   "metadata": {},
   "outputs": [
    {
     "data": {
      "text/plain": [
       "SIC Code        int64\n",
       "Description    object\n",
       "dtype: object"
      ]
     },
     "execution_count": 10,
     "metadata": {},
     "output_type": "execute_result"
    }
   ],
   "source": [
    "df.dtypes"
   ]
  },
  {
   "cell_type": "code",
   "execution_count": 11,
   "id": "931b1142-279a-4b7a-b4ce-23289a5aee7c",
   "metadata": {},
   "outputs": [
    {
     "data": {
      "text/html": [
       "<div>\n",
       "<style scoped>\n",
       "    .dataframe tbody tr th:only-of-type {\n",
       "        vertical-align: middle;\n",
       "    }\n",
       "\n",
       "    .dataframe tbody tr th {\n",
       "        vertical-align: top;\n",
       "    }\n",
       "\n",
       "    .dataframe thead th {\n",
       "        text-align: right;\n",
       "    }\n",
       "</style>\n",
       "<table border=\"1\" class=\"dataframe\">\n",
       "  <thead>\n",
       "    <tr style=\"text-align: right;\">\n",
       "      <th></th>\n",
       "      <th>SIC Code</th>\n",
       "      <th>Description</th>\n",
       "    </tr>\n",
       "  </thead>\n",
       "  <tbody>\n",
       "    <tr>\n",
       "      <th>0</th>\n",
       "      <td>1110</td>\n",
       "      <td>Growing of cereals (except rice), leguminous crops and oil seeds</td>\n",
       "    </tr>\n",
       "    <tr>\n",
       "      <th>1</th>\n",
       "      <td>1120</td>\n",
       "      <td>Growing of rice</td>\n",
       "    </tr>\n",
       "    <tr>\n",
       "      <th>2</th>\n",
       "      <td>1130</td>\n",
       "      <td>Growing of vegetables and melons, roots and tubers</td>\n",
       "    </tr>\n",
       "    <tr>\n",
       "      <th>3</th>\n",
       "      <td>1140</td>\n",
       "      <td>Growing of sugar cane</td>\n",
       "    </tr>\n",
       "    <tr>\n",
       "      <th>4</th>\n",
       "      <td>1150</td>\n",
       "      <td>Growing of tobacco</td>\n",
       "    </tr>\n",
       "  </tbody>\n",
       "</table>\n",
       "</div>"
      ],
      "text/plain": [
       "   SIC Code                                                       Description\n",
       "0      1110  Growing of cereals (except rice), leguminous crops and oil seeds\n",
       "1      1120                                                   Growing of rice\n",
       "2      1130                Growing of vegetables and melons, roots and tubers\n",
       "3      1140                                             Growing of sugar cane\n",
       "4      1150                                                Growing of tobacco"
      ]
     },
     "execution_count": 11,
     "metadata": {},
     "output_type": "execute_result"
    }
   ],
   "source": [
    "df[:5]"
   ]
  },
  {
   "cell_type": "code",
   "execution_count": 12,
   "id": "3185bcc1-74cb-4446-8e05-7dec009edaa8",
   "metadata": {},
   "outputs": [
    {
     "data": {
      "text/html": [
       "<div>\n",
       "<style scoped>\n",
       "    .dataframe tbody tr th:only-of-type {\n",
       "        vertical-align: middle;\n",
       "    }\n",
       "\n",
       "    .dataframe tbody tr th {\n",
       "        vertical-align: top;\n",
       "    }\n",
       "\n",
       "    .dataframe thead th {\n",
       "        text-align: right;\n",
       "    }\n",
       "</style>\n",
       "<table border=\"1\" class=\"dataframe\">\n",
       "  <thead>\n",
       "    <tr style=\"text-align: right;\">\n",
       "      <th></th>\n",
       "      <th>SIC Code</th>\n",
       "      <th>Description</th>\n",
       "    </tr>\n",
       "  </thead>\n",
       "  <tbody>\n",
       "    <tr>\n",
       "      <th>726</th>\n",
       "      <td>98000</td>\n",
       "      <td>Residents property management</td>\n",
       "    </tr>\n",
       "    <tr>\n",
       "      <th>727</th>\n",
       "      <td>98100</td>\n",
       "      <td>Undifferentiated goods-producing activities of private households for own use</td>\n",
       "    </tr>\n",
       "    <tr>\n",
       "      <th>728</th>\n",
       "      <td>98200</td>\n",
       "      <td>Undifferentiated service-producing activities of private households for own use</td>\n",
       "    </tr>\n",
       "    <tr>\n",
       "      <th>729</th>\n",
       "      <td>99000</td>\n",
       "      <td>Activities of extraterritorial organizations and bodies</td>\n",
       "    </tr>\n",
       "    <tr>\n",
       "      <th>730</th>\n",
       "      <td>99999</td>\n",
       "      <td>Dormant Company</td>\n",
       "    </tr>\n",
       "  </tbody>\n",
       "</table>\n",
       "</div>"
      ],
      "text/plain": [
       "     SIC Code  \\\n",
       "726     98000   \n",
       "727     98100   \n",
       "728     98200   \n",
       "729     99000   \n",
       "730     99999   \n",
       "\n",
       "                                                                         Description  \n",
       "726                                                    Residents property management  \n",
       "727    Undifferentiated goods-producing activities of private households for own use  \n",
       "728  Undifferentiated service-producing activities of private households for own use  \n",
       "729                          Activities of extraterritorial organizations and bodies  \n",
       "730                                                                  Dormant Company  "
      ]
     },
     "execution_count": 12,
     "metadata": {},
     "output_type": "execute_result"
    }
   ],
   "source": [
    "df[-5:]"
   ]
  },
  {
   "cell_type": "code",
   "execution_count": 13,
   "id": "17030e30-f148-416b-a5e0-7776f70a9605",
   "metadata": {},
   "outputs": [],
   "source": [
    "def get_description_by_sic(sic_code):\n",
    "    # find the description by SIC Code\n",
    "    description = df[df['SIC Code'] == sic_code]['Description'].values\n",
    "    if description:\n",
    "        print(f\"SIC Code {sic_code}: {description[0]}\")\n",
    "    else:\n",
    "        print(\"Description not found for the given SIC Code.\")"
   ]
  },
  {
   "cell_type": "code",
   "execution_count": 14,
   "id": "cc9691f8-b068-4d09-87c1-4456a3ef8a04",
   "metadata": {},
   "outputs": [
    {
     "name": "stdout",
     "output_type": "stream",
     "text": [
      "SIC Code 56103: Take-away food shops and mobile food stands\n"
     ]
    }
   ],
   "source": [
    "get_description_by_sic(56103) "
   ]
  },
  {
   "cell_type": "code",
   "execution_count": 15,
   "id": "5ead8e0d-ff0a-4bed-bafc-26d9efd0e80f",
   "metadata": {},
   "outputs": [
    {
     "name": "stdout",
     "output_type": "stream",
     "text": [
      "SIC Code 46160: Agents involved in the sale of textiles, clothing, fur, footwear and leather goods\n"
     ]
    }
   ],
   "source": [
    "get_description_by_sic(46160)"
   ]
  },
  {
   "cell_type": "code",
   "execution_count": 16,
   "id": "2a1521ed-5693-421c-bcfa-05bb43278ace",
   "metadata": {},
   "outputs": [
    {
     "name": "stdout",
     "output_type": "stream",
     "text": [
      "SIC Code 47710: Retail sale of clothing in specialised stores\n"
     ]
    }
   ],
   "source": [
    "get_description_by_sic(47710)"
   ]
  },
  {
   "cell_type": "code",
   "execution_count": 17,
   "id": "7e72216d-287a-4cb6-bb8b-b3ff2cde7f68",
   "metadata": {},
   "outputs": [],
   "source": [
    "def search_description(search_string):\n",
    "    matching_rows = df[df['Description'].str.contains(search_string, case=False)]\n",
    "    if not matching_rows.empty:\n",
    "        print(\"Matching SIC Codes and Descriptions:\")\n",
    "        return matching_rows\n",
    "    else:\n",
    "        print(\"No matches found for the given search string.\")"
   ]
  },
  {
   "cell_type": "code",
   "execution_count": 18,
   "id": "9c190cbe-7a26-4a22-b655-fe1dce7cce73",
   "metadata": {},
   "outputs": [
    {
     "name": "stdout",
     "output_type": "stream",
     "text": [
      "Matching SIC Codes and Descriptions:\n"
     ]
    },
    {
     "data": {
      "text/html": [
       "<div>\n",
       "<style scoped>\n",
       "    .dataframe tbody tr th:only-of-type {\n",
       "        vertical-align: middle;\n",
       "    }\n",
       "\n",
       "    .dataframe tbody tr th {\n",
       "        vertical-align: top;\n",
       "    }\n",
       "\n",
       "    .dataframe thead th {\n",
       "        text-align: right;\n",
       "    }\n",
       "</style>\n",
       "<table border=\"1\" class=\"dataframe\">\n",
       "  <thead>\n",
       "    <tr style=\"text-align: right;\">\n",
       "      <th></th>\n",
       "      <th>SIC Code</th>\n",
       "      <th>Description</th>\n",
       "    </tr>\n",
       "  </thead>\n",
       "  <tbody>\n",
       "    <tr>\n",
       "      <th>0</th>\n",
       "      <td>1110</td>\n",
       "      <td>Growing of cereals (except rice), leguminous crops and oil seeds</td>\n",
       "    </tr>\n",
       "    <tr>\n",
       "      <th>1</th>\n",
       "      <td>1120</td>\n",
       "      <td>Growing of rice</td>\n",
       "    </tr>\n",
       "  </tbody>\n",
       "</table>\n",
       "</div>"
      ],
      "text/plain": [
       "   SIC Code                                                       Description\n",
       "0      1110  Growing of cereals (except rice), leguminous crops and oil seeds\n",
       "1      1120                                                   Growing of rice"
      ]
     },
     "execution_count": 18,
     "metadata": {},
     "output_type": "execute_result"
    }
   ],
   "source": [
    "search_description(\"rice\")  "
   ]
  },
  {
   "cell_type": "code",
   "execution_count": 19,
   "id": "1d897e7c-8f6b-465d-8090-211445502228",
   "metadata": {},
   "outputs": [
    {
     "name": "stdout",
     "output_type": "stream",
     "text": [
      "Matching SIC Codes and Descriptions:\n"
     ]
    },
    {
     "data": {
      "text/html": [
       "<div>\n",
       "<style scoped>\n",
       "    .dataframe tbody tr th:only-of-type {\n",
       "        vertical-align: middle;\n",
       "    }\n",
       "\n",
       "    .dataframe tbody tr th {\n",
       "        vertical-align: top;\n",
       "    }\n",
       "\n",
       "    .dataframe thead th {\n",
       "        text-align: right;\n",
       "    }\n",
       "</style>\n",
       "<table border=\"1\" class=\"dataframe\">\n",
       "  <thead>\n",
       "    <tr style=\"text-align: right;\">\n",
       "      <th></th>\n",
       "      <th>SIC Code</th>\n",
       "      <th>Description</th>\n",
       "    </tr>\n",
       "  </thead>\n",
       "  <tbody>\n",
       "    <tr>\n",
       "      <th>362</th>\n",
       "      <td>45320</td>\n",
       "      <td>Retail trade of motor vehicle parts and accessories</td>\n",
       "    </tr>\n",
       "    <tr>\n",
       "      <th>416</th>\n",
       "      <td>47110</td>\n",
       "      <td>Retail sale in non-specialised stores with food, beverages or tobacco predominating</td>\n",
       "    </tr>\n",
       "    <tr>\n",
       "      <th>417</th>\n",
       "      <td>47190</td>\n",
       "      <td>Other retail sale in non-specialised stores</td>\n",
       "    </tr>\n",
       "    <tr>\n",
       "      <th>418</th>\n",
       "      <td>47210</td>\n",
       "      <td>Retail sale of fruit and vegetables in specialised stores</td>\n",
       "    </tr>\n",
       "    <tr>\n",
       "      <th>419</th>\n",
       "      <td>47220</td>\n",
       "      <td>Retail sale of meat and meat products in specialised stores</td>\n",
       "    </tr>\n",
       "    <tr>\n",
       "      <th>420</th>\n",
       "      <td>47230</td>\n",
       "      <td>Retail sale of fish, crustaceans and molluscs in specialised stores</td>\n",
       "    </tr>\n",
       "    <tr>\n",
       "      <th>421</th>\n",
       "      <td>47240</td>\n",
       "      <td>Retail sale of bread, cakes, flour confectionery and sugar confectionery in specialised stores</td>\n",
       "    </tr>\n",
       "    <tr>\n",
       "      <th>422</th>\n",
       "      <td>47250</td>\n",
       "      <td>Retail sale of beverages in specialised stores</td>\n",
       "    </tr>\n",
       "    <tr>\n",
       "      <th>423</th>\n",
       "      <td>47260</td>\n",
       "      <td>Retail sale of tobacco products in specialised stores</td>\n",
       "    </tr>\n",
       "    <tr>\n",
       "      <th>424</th>\n",
       "      <td>47290</td>\n",
       "      <td>Other retail sale of food in specialised stores</td>\n",
       "    </tr>\n",
       "    <tr>\n",
       "      <th>425</th>\n",
       "      <td>47300</td>\n",
       "      <td>Retail sale of automotive fuel in specialised stores</td>\n",
       "    </tr>\n",
       "    <tr>\n",
       "      <th>426</th>\n",
       "      <td>47410</td>\n",
       "      <td>Retail sale of computers, peripheral units and software in specialised stores</td>\n",
       "    </tr>\n",
       "    <tr>\n",
       "      <th>427</th>\n",
       "      <td>47421</td>\n",
       "      <td>Retail sale of mobile telephones</td>\n",
       "    </tr>\n",
       "    <tr>\n",
       "      <th>428</th>\n",
       "      <td>47429</td>\n",
       "      <td>Retail sale of telecommunications equipment other than mobile telephones</td>\n",
       "    </tr>\n",
       "    <tr>\n",
       "      <th>429</th>\n",
       "      <td>47430</td>\n",
       "      <td>Retail sale of audio and video equipment in specialised stores</td>\n",
       "    </tr>\n",
       "    <tr>\n",
       "      <th>430</th>\n",
       "      <td>47510</td>\n",
       "      <td>Retail sale of textiles in specialised stores</td>\n",
       "    </tr>\n",
       "    <tr>\n",
       "      <th>431</th>\n",
       "      <td>47520</td>\n",
       "      <td>Retail sale of hardware, paints and glass in specialised stores</td>\n",
       "    </tr>\n",
       "    <tr>\n",
       "      <th>432</th>\n",
       "      <td>47530</td>\n",
       "      <td>Retail sale of carpets, rugs, wall and floor coverings in specialised stores</td>\n",
       "    </tr>\n",
       "    <tr>\n",
       "      <th>433</th>\n",
       "      <td>47540</td>\n",
       "      <td>Retail sale of electrical household appliances in specialised stores</td>\n",
       "    </tr>\n",
       "    <tr>\n",
       "      <th>434</th>\n",
       "      <td>47591</td>\n",
       "      <td>Retail sale of musical instruments and scores</td>\n",
       "    </tr>\n",
       "    <tr>\n",
       "      <th>435</th>\n",
       "      <td>47599</td>\n",
       "      <td>Retail of furniture, lighting, and similar (not musical instruments or scores) in specialised store</td>\n",
       "    </tr>\n",
       "    <tr>\n",
       "      <th>436</th>\n",
       "      <td>47610</td>\n",
       "      <td>Retail sale of books in specialised stores</td>\n",
       "    </tr>\n",
       "    <tr>\n",
       "      <th>437</th>\n",
       "      <td>47620</td>\n",
       "      <td>Retail sale of newspapers and stationery in specialised stores</td>\n",
       "    </tr>\n",
       "    <tr>\n",
       "      <th>438</th>\n",
       "      <td>47630</td>\n",
       "      <td>Retail sale of music and video recordings in specialised stores</td>\n",
       "    </tr>\n",
       "    <tr>\n",
       "      <th>439</th>\n",
       "      <td>47640</td>\n",
       "      <td>Retail sale of sports goods, fishing gear, camping goods, boats and bicycles</td>\n",
       "    </tr>\n",
       "    <tr>\n",
       "      <th>440</th>\n",
       "      <td>47650</td>\n",
       "      <td>Retail sale of games and toys in specialised stores</td>\n",
       "    </tr>\n",
       "    <tr>\n",
       "      <th>441</th>\n",
       "      <td>47710</td>\n",
       "      <td>Retail sale of clothing in specialised stores</td>\n",
       "    </tr>\n",
       "    <tr>\n",
       "      <th>442</th>\n",
       "      <td>47721</td>\n",
       "      <td>Retail sale of footwear in specialised stores</td>\n",
       "    </tr>\n",
       "    <tr>\n",
       "      <th>443</th>\n",
       "      <td>47722</td>\n",
       "      <td>Retail sale of leather goods in specialised stores</td>\n",
       "    </tr>\n",
       "    <tr>\n",
       "      <th>445</th>\n",
       "      <td>47741</td>\n",
       "      <td>Retail sale of hearing aids</td>\n",
       "    </tr>\n",
       "    <tr>\n",
       "      <th>446</th>\n",
       "      <td>47749</td>\n",
       "      <td>Retail sale of medical and orthopaedic goods in specialised stores (not incl. hearing aids) n.e.c.</td>\n",
       "    </tr>\n",
       "    <tr>\n",
       "      <th>447</th>\n",
       "      <td>47750</td>\n",
       "      <td>Retail sale of cosmetic and toilet articles in specialised stores</td>\n",
       "    </tr>\n",
       "    <tr>\n",
       "      <th>448</th>\n",
       "      <td>47760</td>\n",
       "      <td>Retail sale of flowers, plants, seeds, fertilizers, pet animals and pet food in specialised stores</td>\n",
       "    </tr>\n",
       "    <tr>\n",
       "      <th>449</th>\n",
       "      <td>47770</td>\n",
       "      <td>Retail sale of watches and jewellery in specialised stores</td>\n",
       "    </tr>\n",
       "    <tr>\n",
       "      <th>450</th>\n",
       "      <td>47781</td>\n",
       "      <td>Retail sale in commercial art galleries</td>\n",
       "    </tr>\n",
       "    <tr>\n",
       "      <th>451</th>\n",
       "      <td>47782</td>\n",
       "      <td>Retail sale by opticians</td>\n",
       "    </tr>\n",
       "    <tr>\n",
       "      <th>452</th>\n",
       "      <td>47789</td>\n",
       "      <td>Other retail sale of new goods in specialised stores (not commercial art galleries and opticians)</td>\n",
       "    </tr>\n",
       "    <tr>\n",
       "      <th>453</th>\n",
       "      <td>47791</td>\n",
       "      <td>Retail sale of antiques including antique books in stores</td>\n",
       "    </tr>\n",
       "    <tr>\n",
       "      <th>454</th>\n",
       "      <td>47799</td>\n",
       "      <td>Retail sale of other second-hand goods in stores (not incl. antiques)</td>\n",
       "    </tr>\n",
       "    <tr>\n",
       "      <th>455</th>\n",
       "      <td>47810</td>\n",
       "      <td>Retail sale via stalls and markets of food, beverages and tobacco products</td>\n",
       "    </tr>\n",
       "    <tr>\n",
       "      <th>456</th>\n",
       "      <td>47820</td>\n",
       "      <td>Retail sale via stalls and markets of textiles, clothing and footwear</td>\n",
       "    </tr>\n",
       "    <tr>\n",
       "      <th>457</th>\n",
       "      <td>47890</td>\n",
       "      <td>Retail sale via stalls and markets of other goods</td>\n",
       "    </tr>\n",
       "    <tr>\n",
       "      <th>458</th>\n",
       "      <td>47910</td>\n",
       "      <td>Retail sale via mail order houses or via Internet</td>\n",
       "    </tr>\n",
       "    <tr>\n",
       "      <th>459</th>\n",
       "      <td>47990</td>\n",
       "      <td>Other retail sale not in stores, stalls or markets</td>\n",
       "    </tr>\n",
       "  </tbody>\n",
       "</table>\n",
       "</div>"
      ],
      "text/plain": [
       "     SIC Code  \\\n",
       "362     45320   \n",
       "416     47110   \n",
       "417     47190   \n",
       "418     47210   \n",
       "419     47220   \n",
       "420     47230   \n",
       "421     47240   \n",
       "422     47250   \n",
       "423     47260   \n",
       "424     47290   \n",
       "425     47300   \n",
       "426     47410   \n",
       "427     47421   \n",
       "428     47429   \n",
       "429     47430   \n",
       "430     47510   \n",
       "431     47520   \n",
       "432     47530   \n",
       "433     47540   \n",
       "434     47591   \n",
       "435     47599   \n",
       "436     47610   \n",
       "437     47620   \n",
       "438     47630   \n",
       "439     47640   \n",
       "440     47650   \n",
       "441     47710   \n",
       "442     47721   \n",
       "443     47722   \n",
       "445     47741   \n",
       "446     47749   \n",
       "447     47750   \n",
       "448     47760   \n",
       "449     47770   \n",
       "450     47781   \n",
       "451     47782   \n",
       "452     47789   \n",
       "453     47791   \n",
       "454     47799   \n",
       "455     47810   \n",
       "456     47820   \n",
       "457     47890   \n",
       "458     47910   \n",
       "459     47990   \n",
       "\n",
       "                                                                                             Description  \n",
       "362                                                  Retail trade of motor vehicle parts and accessories  \n",
       "416                  Retail sale in non-specialised stores with food, beverages or tobacco predominating  \n",
       "417                                                          Other retail sale in non-specialised stores  \n",
       "418                                            Retail sale of fruit and vegetables in specialised stores  \n",
       "419                                          Retail sale of meat and meat products in specialised stores  \n",
       "420                                  Retail sale of fish, crustaceans and molluscs in specialised stores  \n",
       "421       Retail sale of bread, cakes, flour confectionery and sugar confectionery in specialised stores  \n",
       "422                                                       Retail sale of beverages in specialised stores  \n",
       "423                                                Retail sale of tobacco products in specialised stores  \n",
       "424                                                      Other retail sale of food in specialised stores  \n",
       "425                                                 Retail sale of automotive fuel in specialised stores  \n",
       "426                        Retail sale of computers, peripheral units and software in specialised stores  \n",
       "427                                                                     Retail sale of mobile telephones  \n",
       "428                             Retail sale of telecommunications equipment other than mobile telephones  \n",
       "429                                       Retail sale of audio and video equipment in specialised stores  \n",
       "430                                                        Retail sale of textiles in specialised stores  \n",
       "431                                      Retail sale of hardware, paints and glass in specialised stores  \n",
       "432                         Retail sale of carpets, rugs, wall and floor coverings in specialised stores  \n",
       "433                                 Retail sale of electrical household appliances in specialised stores  \n",
       "434                                                        Retail sale of musical instruments and scores  \n",
       "435  Retail of furniture, lighting, and similar (not musical instruments or scores) in specialised store  \n",
       "436                                                           Retail sale of books in specialised stores  \n",
       "437                                       Retail sale of newspapers and stationery in specialised stores  \n",
       "438                                      Retail sale of music and video recordings in specialised stores  \n",
       "439                         Retail sale of sports goods, fishing gear, camping goods, boats and bicycles  \n",
       "440                                                  Retail sale of games and toys in specialised stores  \n",
       "441                                                        Retail sale of clothing in specialised stores  \n",
       "442                                                        Retail sale of footwear in specialised stores  \n",
       "443                                                   Retail sale of leather goods in specialised stores  \n",
       "445                                                                          Retail sale of hearing aids  \n",
       "446   Retail sale of medical and orthopaedic goods in specialised stores (not incl. hearing aids) n.e.c.  \n",
       "447                                    Retail sale of cosmetic and toilet articles in specialised stores  \n",
       "448   Retail sale of flowers, plants, seeds, fertilizers, pet animals and pet food in specialised stores  \n",
       "449                                           Retail sale of watches and jewellery in specialised stores  \n",
       "450                                                              Retail sale in commercial art galleries  \n",
       "451                                                                             Retail sale by opticians  \n",
       "452    Other retail sale of new goods in specialised stores (not commercial art galleries and opticians)  \n",
       "453                                            Retail sale of antiques including antique books in stores  \n",
       "454                                Retail sale of other second-hand goods in stores (not incl. antiques)  \n",
       "455                           Retail sale via stalls and markets of food, beverages and tobacco products  \n",
       "456                                Retail sale via stalls and markets of textiles, clothing and footwear  \n",
       "457                                                    Retail sale via stalls and markets of other goods  \n",
       "458                                                    Retail sale via mail order houses or via Internet  \n",
       "459                                                   Other retail sale not in stores, stalls or markets  "
      ]
     },
     "execution_count": 19,
     "metadata": {},
     "output_type": "execute_result"
    }
   ],
   "source": [
    "search_description(\"retail\")"
   ]
  },
  {
   "cell_type": "code",
   "execution_count": 20,
   "id": "1ca2c738-3b99-4db3-9316-51b2d603850d",
   "metadata": {},
   "outputs": [
    {
     "name": "stdout",
     "output_type": "stream",
     "text": [
      "Matching SIC Codes and Descriptions:\n"
     ]
    },
    {
     "data": {
      "text/html": [
       "<div>\n",
       "<style scoped>\n",
       "    .dataframe tbody tr th:only-of-type {\n",
       "        vertical-align: middle;\n",
       "    }\n",
       "\n",
       "    .dataframe tbody tr th {\n",
       "        vertical-align: top;\n",
       "    }\n",
       "\n",
       "    .dataframe thead th {\n",
       "        text-align: right;\n",
       "    }\n",
       "</style>\n",
       "<table border=\"1\" class=\"dataframe\">\n",
       "  <thead>\n",
       "    <tr style=\"text-align: right;\">\n",
       "      <th></th>\n",
       "      <th>SIC Code</th>\n",
       "      <th>Description</th>\n",
       "    </tr>\n",
       "  </thead>\n",
       "  <tbody>\n",
       "    <tr>\n",
       "      <th>531</th>\n",
       "      <td>62020</td>\n",
       "      <td>Information technology consultancy activities</td>\n",
       "    </tr>\n",
       "    <tr>\n",
       "      <th>533</th>\n",
       "      <td>62090</td>\n",
       "      <td>Other information technology service activities</td>\n",
       "    </tr>\n",
       "    <tr>\n",
       "      <th>594</th>\n",
       "      <td>72110</td>\n",
       "      <td>Research and experimental development on biotechnology</td>\n",
       "    </tr>\n",
       "  </tbody>\n",
       "</table>\n",
       "</div>"
      ],
      "text/plain": [
       "     SIC Code                                             Description\n",
       "531     62020           Information technology consultancy activities\n",
       "533     62090         Other information technology service activities\n",
       "594     72110  Research and experimental development on biotechnology"
      ]
     },
     "execution_count": 20,
     "metadata": {},
     "output_type": "execute_result"
    }
   ],
   "source": [
    "search_description(\"technology\")"
   ]
  },
  {
   "cell_type": "code",
   "execution_count": 21,
   "id": "9b3e0b7a-6df4-4937-a816-7e232c4df142",
   "metadata": {},
   "outputs": [
    {
     "name": "stdout",
     "output_type": "stream",
     "text": [
      "Matching SIC Codes and Descriptions:\n"
     ]
    },
    {
     "data": {
      "text/html": [
       "<div>\n",
       "<style scoped>\n",
       "    .dataframe tbody tr th:only-of-type {\n",
       "        vertical-align: middle;\n",
       "    }\n",
       "\n",
       "    .dataframe tbody tr th {\n",
       "        vertical-align: top;\n",
       "    }\n",
       "\n",
       "    .dataframe thead th {\n",
       "        text-align: right;\n",
       "    }\n",
       "</style>\n",
       "<table border=\"1\" class=\"dataframe\">\n",
       "  <thead>\n",
       "    <tr style=\"text-align: right;\">\n",
       "      <th></th>\n",
       "      <th>SIC Code</th>\n",
       "      <th>Description</th>\n",
       "    </tr>\n",
       "  </thead>\n",
       "  <tbody>\n",
       "    <tr>\n",
       "      <th>107</th>\n",
       "      <td>14110</td>\n",
       "      <td>Manufacture of leather clothes</td>\n",
       "    </tr>\n",
       "  </tbody>\n",
       "</table>\n",
       "</div>"
      ],
      "text/plain": [
       "     SIC Code                     Description\n",
       "107     14110  Manufacture of leather clothes"
      ]
     },
     "execution_count": 21,
     "metadata": {},
     "output_type": "execute_result"
    }
   ],
   "source": [
    "search_description('clothes')"
   ]
  },
  {
   "cell_type": "code",
   "execution_count": 22,
   "id": "4833e484-899b-4b95-81ec-e657d5a35d9d",
   "metadata": {},
   "outputs": [
    {
     "name": "stdout",
     "output_type": "stream",
     "text": [
      "Matching SIC Codes and Descriptions:\n"
     ]
    },
    {
     "data": {
      "text/html": [
       "<div>\n",
       "<style scoped>\n",
       "    .dataframe tbody tr th:only-of-type {\n",
       "        vertical-align: middle;\n",
       "    }\n",
       "\n",
       "    .dataframe tbody tr th {\n",
       "        vertical-align: top;\n",
       "    }\n",
       "\n",
       "    .dataframe thead th {\n",
       "        text-align: right;\n",
       "    }\n",
       "</style>\n",
       "<table border=\"1\" class=\"dataframe\">\n",
       "  <thead>\n",
       "    <tr style=\"text-align: right;\">\n",
       "      <th></th>\n",
       "      <th>SIC Code</th>\n",
       "      <th>Description</th>\n",
       "    </tr>\n",
       "  </thead>\n",
       "  <tbody>\n",
       "    <tr>\n",
       "      <th>554</th>\n",
       "      <td>64921</td>\n",
       "      <td>Credit granting by non-deposit taking finance houses and other specialist consumer credit grantors</td>\n",
       "    </tr>\n",
       "    <tr>\n",
       "      <th>555</th>\n",
       "      <td>64922</td>\n",
       "      <td>Activities of mortgage finance companies</td>\n",
       "    </tr>\n",
       "  </tbody>\n",
       "</table>\n",
       "</div>"
      ],
      "text/plain": [
       "     SIC Code  \\\n",
       "554     64921   \n",
       "555     64922   \n",
       "\n",
       "                                                                                            Description  \n",
       "554  Credit granting by non-deposit taking finance houses and other specialist consumer credit grantors  \n",
       "555                                                            Activities of mortgage finance companies  "
      ]
     },
     "execution_count": 22,
     "metadata": {},
     "output_type": "execute_result"
    }
   ],
   "source": [
    "search_description('finance')"
   ]
  },
  {
   "cell_type": "code",
   "execution_count": 23,
   "id": "aa1a3f71-255c-427e-a369-da7ce7d338cb",
   "metadata": {},
   "outputs": [
    {
     "name": "stdout",
     "output_type": "stream",
     "text": [
      "Matching SIC Codes and Descriptions:\n"
     ]
    },
    {
     "data": {
      "text/html": [
       "<div>\n",
       "<style scoped>\n",
       "    .dataframe tbody tr th:only-of-type {\n",
       "        vertical-align: middle;\n",
       "    }\n",
       "\n",
       "    .dataframe tbody tr th {\n",
       "        vertical-align: top;\n",
       "    }\n",
       "\n",
       "    .dataframe thead th {\n",
       "        text-align: right;\n",
       "    }\n",
       "</style>\n",
       "<table border=\"1\" class=\"dataframe\">\n",
       "  <thead>\n",
       "    <tr style=\"text-align: right;\">\n",
       "      <th></th>\n",
       "      <th>SIC Code</th>\n",
       "      <th>Description</th>\n",
       "    </tr>\n",
       "  </thead>\n",
       "  <tbody>\n",
       "    <tr>\n",
       "      <th>341</th>\n",
       "      <td>42990</td>\n",
       "      <td>Construction of other civil engineering projects n.e.c.</td>\n",
       "    </tr>\n",
       "    <tr>\n",
       "      <th>402</th>\n",
       "      <td>46630</td>\n",
       "      <td>Wholesale of mining, construction and civil engineering machinery</td>\n",
       "    </tr>\n",
       "    <tr>\n",
       "      <th>590</th>\n",
       "      <td>71121</td>\n",
       "      <td>Engineering design activities for industrial process and production</td>\n",
       "    </tr>\n",
       "    <tr>\n",
       "      <th>591</th>\n",
       "      <td>71122</td>\n",
       "      <td>Engineering related scientific and technical consulting activities</td>\n",
       "    </tr>\n",
       "    <tr>\n",
       "      <th>592</th>\n",
       "      <td>71129</td>\n",
       "      <td>Other engineering activities</td>\n",
       "    </tr>\n",
       "    <tr>\n",
       "      <th>595</th>\n",
       "      <td>72190</td>\n",
       "      <td>Other research and experimental development on natural sciences and engineering</td>\n",
       "    </tr>\n",
       "    <tr>\n",
       "      <th>618</th>\n",
       "      <td>77320</td>\n",
       "      <td>Renting and leasing of construction and civil engineering machinery and equipment</td>\n",
       "    </tr>\n",
       "  </tbody>\n",
       "</table>\n",
       "</div>"
      ],
      "text/plain": [
       "     SIC Code  \\\n",
       "341     42990   \n",
       "402     46630   \n",
       "590     71121   \n",
       "591     71122   \n",
       "592     71129   \n",
       "595     72190   \n",
       "618     77320   \n",
       "\n",
       "                                                                           Description  \n",
       "341                            Construction of other civil engineering projects n.e.c.  \n",
       "402                  Wholesale of mining, construction and civil engineering machinery  \n",
       "590                Engineering design activities for industrial process and production  \n",
       "591                 Engineering related scientific and technical consulting activities  \n",
       "592                                                       Other engineering activities  \n",
       "595    Other research and experimental development on natural sciences and engineering  \n",
       "618  Renting and leasing of construction and civil engineering machinery and equipment  "
      ]
     },
     "execution_count": 23,
     "metadata": {},
     "output_type": "execute_result"
    }
   ],
   "source": [
    "search_description('engineering')"
   ]
  },
  {
   "cell_type": "code",
   "execution_count": 24,
   "id": "d8b87bdf-b7e5-4eb1-8d16-6a8485e37bf9",
   "metadata": {},
   "outputs": [
    {
     "name": "stdout",
     "output_type": "stream",
     "text": [
      "Matching SIC Codes and Descriptions:\n"
     ]
    },
    {
     "data": {
      "text/html": [
       "<div>\n",
       "<style scoped>\n",
       "    .dataframe tbody tr th:only-of-type {\n",
       "        vertical-align: middle;\n",
       "    }\n",
       "\n",
       "    .dataframe tbody tr th {\n",
       "        vertical-align: top;\n",
       "    }\n",
       "\n",
       "    .dataframe thead th {\n",
       "        text-align: right;\n",
       "    }\n",
       "</style>\n",
       "<table border=\"1\" class=\"dataframe\">\n",
       "  <thead>\n",
       "    <tr style=\"text-align: right;\">\n",
       "      <th></th>\n",
       "      <th>SIC Code</th>\n",
       "      <th>Description</th>\n",
       "    </tr>\n",
       "  </thead>\n",
       "  <tbody>\n",
       "    <tr>\n",
       "      <th>70</th>\n",
       "      <td>10612</td>\n",
       "      <td>Manufacture of breakfast cereals and cereals-based food</td>\n",
       "    </tr>\n",
       "    <tr>\n",
       "      <th>82</th>\n",
       "      <td>10860</td>\n",
       "      <td>Manufacture of homogenized food preparations and dietetic food</td>\n",
       "    </tr>\n",
       "    <tr>\n",
       "      <th>83</th>\n",
       "      <td>10890</td>\n",
       "      <td>Manufacture of other food products n.e.c.</td>\n",
       "    </tr>\n",
       "    <tr>\n",
       "      <th>85</th>\n",
       "      <td>10920</td>\n",
       "      <td>Manufacture of prepared pet foods</td>\n",
       "    </tr>\n",
       "    <tr>\n",
       "      <th>273</th>\n",
       "      <td>28930</td>\n",
       "      <td>Manufacture of machinery for food, beverage and tobacco processing</td>\n",
       "    </tr>\n",
       "    <tr>\n",
       "      <th>370</th>\n",
       "      <td>46170</td>\n",
       "      <td>Agents involved in the sale of food, beverages and tobacco</td>\n",
       "    </tr>\n",
       "    <tr>\n",
       "      <th>385</th>\n",
       "      <td>46380</td>\n",
       "      <td>Wholesale of other food, including fish, crustaceans and molluscs</td>\n",
       "    </tr>\n",
       "    <tr>\n",
       "      <th>386</th>\n",
       "      <td>46390</td>\n",
       "      <td>Non-specialised wholesale of food, beverages and tobacco</td>\n",
       "    </tr>\n",
       "    <tr>\n",
       "      <th>416</th>\n",
       "      <td>47110</td>\n",
       "      <td>Retail sale in non-specialised stores with food, beverages or tobacco predominating</td>\n",
       "    </tr>\n",
       "    <tr>\n",
       "      <th>424</th>\n",
       "      <td>47290</td>\n",
       "      <td>Other retail sale of food in specialised stores</td>\n",
       "    </tr>\n",
       "    <tr>\n",
       "      <th>448</th>\n",
       "      <td>47760</td>\n",
       "      <td>Retail sale of flowers, plants, seeds, fertilizers, pet animals and pet food in specialised stores</td>\n",
       "    </tr>\n",
       "    <tr>\n",
       "      <th>455</th>\n",
       "      <td>47810</td>\n",
       "      <td>Retail sale via stalls and markets of food, beverages and tobacco products</td>\n",
       "    </tr>\n",
       "    <tr>\n",
       "      <th>501</th>\n",
       "      <td>56103</td>\n",
       "      <td>Take-away food shops and mobile food stands</td>\n",
       "    </tr>\n",
       "    <tr>\n",
       "      <th>503</th>\n",
       "      <td>56290</td>\n",
       "      <td>Other food services</td>\n",
       "    </tr>\n",
       "  </tbody>\n",
       "</table>\n",
       "</div>"
      ],
      "text/plain": [
       "     SIC Code  \\\n",
       "70      10612   \n",
       "82      10860   \n",
       "83      10890   \n",
       "85      10920   \n",
       "273     28930   \n",
       "370     46170   \n",
       "385     46380   \n",
       "386     46390   \n",
       "416     47110   \n",
       "424     47290   \n",
       "448     47760   \n",
       "455     47810   \n",
       "501     56103   \n",
       "503     56290   \n",
       "\n",
       "                                                                                            Description  \n",
       "70                                              Manufacture of breakfast cereals and cereals-based food  \n",
       "82                                       Manufacture of homogenized food preparations and dietetic food  \n",
       "83                                                            Manufacture of other food products n.e.c.  \n",
       "85                                                                    Manufacture of prepared pet foods  \n",
       "273                                  Manufacture of machinery for food, beverage and tobacco processing  \n",
       "370                                          Agents involved in the sale of food, beverages and tobacco  \n",
       "385                                   Wholesale of other food, including fish, crustaceans and molluscs  \n",
       "386                                            Non-specialised wholesale of food, beverages and tobacco  \n",
       "416                 Retail sale in non-specialised stores with food, beverages or tobacco predominating  \n",
       "424                                                     Other retail sale of food in specialised stores  \n",
       "448  Retail sale of flowers, plants, seeds, fertilizers, pet animals and pet food in specialised stores  \n",
       "455                          Retail sale via stalls and markets of food, beverages and tobacco products  \n",
       "501                                                         Take-away food shops and mobile food stands  \n",
       "503                                                                                 Other food services  "
      ]
     },
     "execution_count": 24,
     "metadata": {},
     "output_type": "execute_result"
    }
   ],
   "source": [
    "search_description('food')"
   ]
  }
 ],
 "metadata": {
  "kernelspec": {
   "display_name": "anaconda-2022.05-py39",
   "language": "python",
   "name": "conda-env-anaconda-2022.05-py39-py"
  },
  "language_info": {
   "codemirror_mode": {
    "name": "ipython",
    "version": 3
   },
   "file_extension": ".py",
   "mimetype": "text/x-python",
   "name": "python",
   "nbconvert_exporter": "python",
   "pygments_lexer": "ipython3",
   "version": "3.9.12"
  }
 },
 "nbformat": 4,
 "nbformat_minor": 5
}
